{
 "cells": [
  {
   "cell_type": "markdown",
   "metadata": {},
   "source": [
    "<img src=\"Archivos/miad4.png\" width=800x>\n",
    "\n",
    "# Modificar bases de datos  \n",
    "\n",
    "Al finalizar la exploración de una base de datos procedemos a modificarla. En este tutorial expandimos la explicación de los métodos de la librería `pandas` vistos anteriormente y presentamos métodos adicionales para integrarlos en procesos de modificación de bases de datos. "
   ]
  },
  {
   "cell_type": "markdown",
   "metadata": {},
   "source": [
    "## Requisitos\n",
    "\n",
    "Para desarrollar este tutorial necesitarás:\n",
    "\n",
    "* Importar archivos de texto.\n",
    "* Implementar filtrado condicional y filtrado numérico.\n",
    "* Utilizar los métodos básicos de los `Series` y los `DataFrame`."
   ]
  },
  {
   "cell_type": "markdown",
   "metadata": {},
   "source": [
    "## Objetivos\n",
    "\n",
    "Al final de este tutorial podrás:\n",
    "\n",
    "**1.** Procesar archivos en formatos especiales. <br>\n",
    "**2.** Modificar la estructura y el contenido de un `DataFrame`."
   ]
  },
  {
   "cell_type": "markdown",
   "metadata": {},
   "source": [
    "## 1. Procesamiento de archivos en formatos especiales \n",
    "\n",
    "La librería `pandas` nos permite importar archivos en múltiples formatos para procesarlos como un `DataFrame`. Entre estos formatos, se encuentran los archivos de tipo texto, de tipo binario y de tipo SQL. En las referencias encuentras la lista completa de métodos de lectura y escritura según el tipo de archivo. A manera de ejemplo expondremos el método `read_fwf` el cuál permite procesar archivos de ancho fijo. \n",
    "\n",
    "    pd.read_fwf(filepath_or_buffer, colspecs, **kwds)\n",
    "\n",
    "* **filepath_or_buffer:** ruta del archivo de texto a procesar.  \n",
    "\n",
    "* **colspecs:** lista de tuplas que identifica la posición donde empieza y termina cada columna. Especificando `colspecs = 'infer'` el método infiere las columnas del archivo. \n",
    "\n",
    "* ** **kwds:** indica que podemos especificar los parámetros disponibles en el método `read_csv`. "
   ]
  },
  {
   "cell_type": "markdown",
   "metadata": {},
   "source": [
    "##### Ejemplo 1 \n",
    "\n",
    "Retomemos el archivo `\"mfh.txt\"` (*Major foreign holders*) el cual contiene la distribución del monto de títulos del tesoro americano de los Estados Unidos que se encuentra en cuentas afuera de su país. Dado que este es un archivo de ancho fijo, utilizaremos parte del código que aprendimos anteriormente para obtener las posiciones de inicio y de fin de las columnas que conforman el archivo."
   ]
  },
  {
   "cell_type": "code",
   "execution_count": null,
   "metadata": {
    "scrolled": false
   },
   "outputs": [],
   "source": [
    "with open(\"Archivos/mfh.txt\", \"r\") as mfh: \n",
    "    # Leemos el archivo y lo almacenamos en una sola cadena de caracteres\n",
    "    mfh = mfh.read()\n",
    "    # Seleccionamos la cadena de caracteres que se encuentra entre la palabra 'Period' y la palabra 'Grand'\n",
    "    mfh = mfh.split('PERIOD')[1].split('Grand')[0]\n",
    "    # Declaramos una lista con las líneas de nuestra cadena de caracteres\n",
    "    lista_mfh = mfh.splitlines()\n",
    "    # Nos quedamos únicamente con las líneas no vacías\n",
    "    lista_mfh = [x for x in lista_mfh if x]"
   ]
  },
  {
   "cell_type": "markdown",
   "metadata": {},
   "source": [
    "Declaramos las siguientes variables: "
   ]
  },
  {
   "cell_type": "code",
   "execution_count": null,
   "metadata": {},
   "outputs": [],
   "source": [
    "# Lista vacía para almacenar las posiciones de inicio de cada columna de números.\n",
    "lista_inicio_cols = []\n",
    "# Lista vacía para almacenar la última posición de cada columna de números. \n",
    "lista_fin_cols = []\n",
    "# Cadena de caracteres que almacena la fila de guíones contenida en el archivo.\n",
    "fila_guiones = lista_mfh[2]\n",
    "# Variable de tipo entero para marcar el inicio de la busqueda a partir de cada columna. \n",
    "inicio_columna = 0\n",
    "# Variable de tipo lógica para indicar si ya llegamos al final de la lista.\n",
    "criterio_parada = True"
   ]
  },
  {
   "cell_type": "markdown",
   "metadata": {},
   "source": [
    "Iteramos mientras el booleano se mantenga igual a `True`. "
   ]
  },
  {
   "cell_type": "code",
   "execution_count": null,
   "metadata": {},
   "outputs": [],
   "source": [
    "while(criterio_parada):\n",
    "    # Declaramos el inicio de una nueva columna encontrando la palabra guión.\n",
    "    pos_inicio = inicio_columna + fila_guiones[inicio_columna:].find('-')\n",
    "    # Declaramos el ancho de la columna encontrando el siguiente espacio vacío.  \n",
    "    ancho_columna = fila_guiones[pos_inicio:].find(' ')\n",
    "    # Si encuentra dicho espacio\n",
    "    if(ancho_columna != -1):\n",
    "        # Almacenamos la posición de inicio de la columna.\n",
    "        lista_inicio_cols.append(pos_inicio)\n",
    "        # Declaramos la posición final de la columna.\n",
    "        pos_final = pos_inicio + ancho_columna \n",
    "        # Almacenamos la posición final de la columna.\n",
    "        lista_fin_cols.append(pos_final) \n",
    "        # Actualizamos el inicio de la columna para la siguiente iteración.\n",
    "        inicio_columna = pos_final\n",
    "    #Si no se pudo encontrar mas espacios no se se sigue iterando ya que no hay mas columnas.    \n",
    "    else:\n",
    "        criterio_parada = False"
   ]
  },
  {
   "cell_type": "markdown",
   "metadata": {},
   "source": [
    "El código anterior nos permite obtener las posiciones en las que empiezan y finalizan las columnas de números. Entonces agreguemos la tupla que contiene la posición donde empieza la columna de países (posición 0) y la posición donde empieza la primera columna de números."
   ]
  },
  {
   "cell_type": "code",
   "execution_count": null,
   "metadata": {},
   "outputs": [],
   "source": [
    "ancho_cols = [(0,lista_inicio_cols[0])]+list(zip(lista_inicio_cols, lista_fin_cols))\n",
    "ancho_cols"
   ]
  },
  {
   "cell_type": "markdown",
   "metadata": {},
   "source": [
    "Importemos las librerías necesarias."
   ]
  },
  {
   "cell_type": "code",
   "execution_count": null,
   "metadata": {},
   "outputs": [],
   "source": [
    "import numpy as np \n",
    "import pandas as pd"
   ]
  },
  {
   "cell_type": "markdown",
   "metadata": {},
   "source": [
    "Luego, utilizamos el método `read_fwf` para leer el archivo, omitiendo las filas correspondientes al encabezado y al pie de tabla. Además, para efectos de este tutorial debemos omitir los registros correspondientes al gran recuento total ('Grand Total') y los demás países ('All other')."
   ]
  },
  {
   "cell_type": "code",
   "execution_count": null,
   "metadata": {
    "scrolled": false
   },
   "outputs": [],
   "source": [
    "mfh = pd.read_fwf(\"Archivos/mfh.txt\", skiprows = range(8), skipfooter = 21,\n",
    "                  colspecs = ancho_cols, index_col = [0], header = [0,1])\n",
    "# Eliminamos las dos primeras entradas ya que no contienen información relevante. \n",
    "mfh = mfh[1:-2]\n",
    "mfh"
   ]
  },
  {
   "cell_type": "markdown",
   "metadata": {},
   "source": [
    "Al observar el `DataFrame` de la celda anterior nos damos cuenta que sería deseable rotular correctamente los niveles de las columnas y el índice, para esto podemos usar el método `rename_axis`: "
   ]
  },
  {
   "cell_type": "code",
   "execution_count": null,
   "metadata": {},
   "outputs": [],
   "source": [
    "mfh = mfh.rename_axis(\"Pais\")\n",
    "mfh = mfh.rename_axis([\"Mes\",\"Año\"], axis = 1)\n",
    "mfh"
   ]
  },
  {
   "cell_type": "markdown",
   "metadata": {},
   "source": [
    "## 2. Métodos para la modificación de bases de datos  "
   ]
  },
  {
   "cell_type": "markdown",
   "metadata": {},
   "source": [
    "### 2.1. Método `set_index` \n",
    "\n",
    "Permite utilizar una o varias columnas para sustituir o modificar el índice de un `DataFrame`. Además de columnas podemos utilizar arreglos de `pandas` (`Series` e `Index`) o de arreglos de `numpy`. \n",
    "\n",
    "    pandas.DataFrame.set_index(keys, drop, append, inplace, verify_integrity)\n",
    "\n",
    "* **keys:** indica la(s) llave(s) a usar como nuevo índice.\n",
    "\n",
    "* **drop:** elimina del `DataFrame` las columnas que se emplearon como llaves en el método. Por defecto es `True`.\n",
    "\n",
    "* **append:** preseva el índice original de la base de datos y le agrega la llave ingresada por parámetro. Por defecto es `False`.\n",
    "\n",
    "\n",
    "* **inplace:** por defecto es `False`. <br><br>\n",
    "    * `inplace = True`: retorna `None` y  ejecuta las operaciones sobre el dataframe oríginal. <br>\n",
    "    * `inplace = False`: retorna una copia del `DataFrame` con las modificaciones. <br><br>\n",
    "    \n",
    "* **verify_integrity:** solo aplica si ignore_index = False. Por defecto, `verify_integrity = False`.<br><br>\n",
    "    * `verify_integrity = True`: arroja ValueError si en el DataFrame resultante hay indices duplicados.<br>\n",
    "    * `verify_integrity = False`: permite tener índices repetidos en el DataFrame resultante.<br><br>\n",
    "\n",
    "**Nota:** si utilizamos un arreglo externo al dataframe, debemos asegurarnos que tenga el mismo tamaño que el que tiene actualmente el `DataFrame`."
   ]
  },
  {
   "cell_type": "markdown",
   "metadata": {},
   "source": [
    "##### Ejemplo 2\n",
    "\n",
    "Requerimos analizar como se distribuye la tenencia de los títulos del tesoros entre dos grupos de países: los países miembros de la OECD y los países llamados paraísos fiscales. Ambos grupos no son mutuamente excluyentes por lo que pueden haber coincidencias entre ambos. A continuación, se encuentra declarada una lista para cada grupo de países."
   ]
  },
  {
   "cell_type": "code",
   "execution_count": null,
   "metadata": {},
   "outputs": [],
   "source": [
    "lista_paraisos_fiscales = [\"Belgium\", \"Ireland\", \"Luxembourg\", \"Malta\", \"Netherlands\", \"Cayman Island\",\n",
    "                           \"Singapore\", \"Puerto Rico\", \"Hong Kong\", \"Switzerland\"]\n",
    "\n",
    "lista_oecd = [\"Austria\", \"Australia\", \"Belgium\", \"Canada\", \"Chile\", \"Colombia\", \"Czech Republic\", \"Denmark\", \n",
    "              \"Estonia\", \"Finland\", \"France\", \"Germany\", \"Greece\", \"Hungary\", \"Iceland\", \"Ireland\", \"Israel\", \n",
    "              \"Italy\", \"Japan\", \"Korea\", \"Latvia\", \"Lithuania\", \"Luxembourg\", \"Mexico\",  \"Netherlands\", \n",
    "              \"New Zealand\", \"Norway\", \"Poland\", \"Portugal\", \"Slovak Republic\", \"Slovenia\", \"Spain\", \"Sweden\", \n",
    "              \"Switzerland\", \"Turkey\", \"United Kingdom\", \"United States\"]"
   ]
  },
  {
   "cell_type": "markdown",
   "metadata": {},
   "source": [
    "Creamos las columnas correspondientes para posteriormente añadirlas al índice."
   ]
  },
  {
   "cell_type": "code",
   "execution_count": null,
   "metadata": {
    "scrolled": true
   },
   "outputs": [],
   "source": [
    "# Creamos las columnas \"Clasificación Fiscal\" y \"OECD\" \n",
    "mfh.loc[:,'Clasificación_Fiscal'] = \"Tributación Regular\"\n",
    "mfh.loc[:,'OECD'] = \"No pertenece\"\n",
    "# Definimos cuales países son considerado paraisos fiscales y cuáles son miembros de la OECD\n",
    "mfh.loc[mfh.index.isin(lista_paraisos_fiscales), 'Clasificación_Fiscal'] = \"Paraiso Fiscal\"\n",
    "mfh.loc[mfh.index.isin(lista_oecd), 'OECD'] = \"Pertenece\"\n",
    "# Utilizamos set_index para añadir estas columnas al índice\n",
    "mfh.set_index(keys =['Clasificación_Fiscal','OECD'], append = True, inplace = True)\n",
    "mfh"
   ]
  },
  {
   "cell_type": "markdown",
   "metadata": {},
   "source": [
    "### 2.2. Método `reset_index`\n",
    "\n",
    "Resetea el índice de un `DataFrame`. Si se trata de un multi-índice permite eliminar uno o más niveles, dejando la opción de preservarlos como columnas.\n",
    "\n",
    "    pandas.DataFrame.reset_index(level, drop)\n",
    "\n",
    "* **level:** etiqueta o índice del multi-índice a eliminar. <br><br>\n",
    "\n",
    "* **drop:** por defecto es `False` <br><br>\n",
    "`Drop = True`: se eliminan los niveles. <br><br>\n",
    "`Drop = False`: los niveles pasan a ser una columna. "
   ]
  },
  {
   "cell_type": "markdown",
   "metadata": {},
   "source": [
    "### 2.3. Método `drop`\n",
    "\n",
    "Permite eliminar filas o columnas especificando su nombre o su índice. \n",
    "\n",
    "    pandas.DataFrame.drop(labels, axis, index, columns, level, inplace, errors)\n",
    "\n",
    "* **labels:** indica el nombre o la posición de las filas o columnas a eliminar.\n",
    "\n",
    "* **axis:** por defecto es 0. <br><br>\n",
    "    * `axis = 1`: indica que vamos a eliminar columnas. <br>\n",
    "    * `axis = 0`: indica que vamos a eliminar filas.<br><br>\n",
    "\n",
    "\n",
    "* **index:** se utiliza únicamente para eliminar filas, especificando el nombre o el índice de las filas a eliminar. Cuando utilizamos este parámetro no es necesario utilizar los parámetros `labels` y `axis`.\n",
    "\n",
    "* **columns:** se utiliza únicamente para eliminar columnas, especificando el nombre o el índice de las columnas a eliminar. Cuando utilizamos este parámetro no es necesario utilizar los parámetros `labels` y `axis`.\n",
    "\n",
    "* **level:** indica por nombre o por posición a cuál de los niveles del índice múltiple se le aplicará el método.\n",
    "\n",
    "\n",
    "* **inplace:** por defecto es `False`. <br><br>\n",
    "    * `inplace = True`: retorna `None` y  ejecuta las operaciones sobre el dataframe oríginal. <br>\n",
    "    * `inplace = False`: retorna una copia del `DataFrame` con las modificaciones. <br><br>"
   ]
  },
  {
   "cell_type": "markdown",
   "metadata": {},
   "source": [
    "##### Ejemplo 3\n",
    "\n",
    "Requerimos eliminar las observaciones del `DataFrame` `mfh` correspondientes al año 2020, y almacenar el `DataFrame` resultante en un `DataFrame` llamado `mfh_2021`.\n",
    "\n",
    "Procedemos entonces utilizando el método `drop`."
   ]
  },
  {
   "cell_type": "code",
   "execution_count": null,
   "metadata": {},
   "outputs": [],
   "source": [
    "mfh_2021 = mfh.drop(labels = '2020', axis = 1, level = 1 )  \n",
    "mfh_2021"
   ]
  },
  {
   "cell_type": "markdown",
   "metadata": {},
   "source": [
    "### 2.4. Método `Groupby`\n",
    "\n",
    "El método groupby permite realizar las siguientes tres operaciones a la vez: \n",
    "* (1) Separar en grupos el `DataFrame` de acuerdo a un criterio.\n",
    "* (2) Aplicar una función a cada grupo. \n",
    "* (3) Combinar los resultados en un nuevo `DataFrame`.\n",
    "\n",
    "La sintaxis para usar groupby es la siguiente:\n",
    "\n",
    "    pandas.DataFrame.groupby(by, axis, level)\n",
    "\n",
    "* **by:** indica el criterio para realizar el paso (1). Puede usarse un diccionario, un `Series`, entre otros.\n",
    "\n",
    "* **axis:** por defecto es 0. <br><br>\n",
    "    * `axis = 1`: indica que vamos a agrupar columnas. <br>\n",
    "    * `axis = 0`: indica que vamos a agrupar filas.<br><br>\n",
    "\n",
    "* **level:** indica por nombre o por posición a cuál de los niveles del índice múltiple se le aplicará el método."
   ]
  },
  {
   "cell_type": "markdown",
   "metadata": {},
   "source": [
    "##### Ejemplo 4\n",
    "\n",
    "Requerimos un `DataFrame` llamado `mfh_resumen` que sume el total de títulos del tesoro para los niveles del índice múltiple. \n",
    "\n",
    "Transformamos los valores de nuestro `DataFrame` a `float` y después aplicamos el método `groupby`."
   ]
  },
  {
   "cell_type": "code",
   "execution_count": null,
   "metadata": {
    "scrolled": false
   },
   "outputs": [],
   "source": [
    "mfh = mfh.astype(float)\n",
    "mfh_resumen = mfh.groupby(level = ['Clasificación_Fiscal','OECD']).sum()\n",
    "mfh_resumen"
   ]
  },
  {
   "cell_type": "markdown",
   "metadata": {},
   "source": [
    "### 2.5. Método `apply`\n",
    "\n",
    "El método `apply` lleva a cabo una función bien sea sobre las columnas o sobre las filas de un `DataFrame`. \n",
    "\n",
    "    pandas.DataFrame.apply(func, axis)\n",
    "\n",
    "* **func:** función a aplicar. <br><br>\n",
    "\n",
    "* **axis:**  por defecto es 0. <br><br>\n",
    "\n",
    "    * `axis = 1`: indica que vamos a aplicar la función sobre las columnas. <br>\n",
    "    * `axis = 0`: indica que vamos a aplicar la función sobre las filas.<br><br>\n",
    "\n",
    "A continuación explicaremos tres ventajas que presenta el método `apply`: "
   ]
  },
  {
   "cell_type": "markdown",
   "metadata": {},
   "source": [
    "#### Trabajar con funciones declaradas previamente \n",
    "\n",
    "El parámetro `func` puede tomar el valor de una función declarada previamente."
   ]
  },
  {
   "cell_type": "markdown",
   "metadata": {},
   "source": [
    "##### Ejemplo 5\n",
    "\n",
    "Requerimos calcular el porcentaje de títulos distribuido en las cuentas de los países clasificados como paraíso fiscal y guardar este resultado en un `DataFrame` llamado `mfh_paraisos_fiscales`. \n",
    "\n",
    "Para esto declaramos la función `calcular_porcentaje`."
   ]
  },
  {
   "cell_type": "code",
   "execution_count": null,
   "metadata": {},
   "outputs": [],
   "source": [
    "def calcular_porcentaje(lista):\n",
    "    \n",
    "    rta = lista / sum(lista)\n",
    "    \n",
    "    return rta "
   ]
  },
  {
   "cell_type": "markdown",
   "metadata": {},
   "source": [
    "Después la usamos como parámetro del método `apply`."
   ]
  },
  {
   "cell_type": "code",
   "execution_count": null,
   "metadata": {},
   "outputs": [],
   "source": [
    "# Declaramos el Segmentador de Índices\n",
    "idx = pd.IndexSlice\n",
    "mfh_paraisos_fiscales = mfh.loc[idx[:,'Paraiso Fiscal',],]\n",
    "mfh_paraisos_fiscales = mfh_paraisos_fiscales.apply(calcular_porcentaje)\n",
    "mfh_paraisos_fiscales"
   ]
  },
  {
   "cell_type": "markdown",
   "metadata": {},
   "source": [
    "#### Encadenar métodos \n",
    "\n",
    "En `pandas` podemos encadenar métodos, esto significa que se puede invocar un método tras otro sin redefinir el `DataFrame` repetidamente. El método `apply` puede encadenarse con otros métodos, lo que resulta práctico en términos de ahorro de líneas de código y claridad de lectura. "
   ]
  },
  {
   "cell_type": "markdown",
   "metadata": {},
   "source": [
    "##### Ejemplo 6\n",
    "\n",
    "Filtra la base para solo trabajar con aquellos países que son parte de la OECD, de tal forma que pueda calcular el porcentaje de títulos bajo posesión de cada país.\n",
    "\n",
    "Hacemos entonces el filtrado y directamente realizamos el `apply`."
   ]
  },
  {
   "cell_type": "code",
   "execution_count": null,
   "metadata": {},
   "outputs": [],
   "source": [
    "mfh_oecd = mfh.loc[idx[:,:,'Pertenece'],].apply(calcular_porcentaje,axis = 0)\n",
    "mfh_oecd"
   ]
  },
  {
   "cell_type": "markdown",
   "metadata": {},
   "source": [
    "#### Múltiples operaciones simultaneamente\n",
    "\n",
    "El método `apply` permite ejecutar varias operaciones a la vez, lo cual nos ahorra líneas de código o encadenar más métodos de los necesarios. "
   ]
  },
  {
   "cell_type": "markdown",
   "metadata": {},
   "source": [
    "##### Ejemplo 7\n",
    "\n",
    "Requerimos nuevamente filtrar la base para solo trabajar con aquellos países que son parte de la OECD, de tal forma que calculemos el porcentaje de títulos bajo posesión de cada país. Esta vez, redondearemos el resultado a tres cifras decimales. \n",
    "\n",
    "Una manera de solucionar este requerimiento es utilizar la división de objetos y el método `round` de `pandas`."
   ]
  },
  {
   "cell_type": "code",
   "execution_count": null,
   "metadata": {},
   "outputs": [],
   "source": [
    "mfh_oecd = mfh.loc[idx[:,:,'Pertenece'],]\n",
    "mfh_oecd_norm = (mfh_oecd / mfh_oecd.sum()).round(3)\n",
    "mfh_oecd_norm"
   ]
  },
  {
   "cell_type": "markdown",
   "metadata": {},
   "source": [
    "En cambio podríamos haber usado una sola línea de código para cubrir este requerimiento."
   ]
  },
  {
   "cell_type": "code",
   "execution_count": null,
   "metadata": {},
   "outputs": [],
   "source": [
    "mfh_oecd_norm = mfh.loc[idx[:,:,'Pertenece'],].apply(lambda x: round(x / x.sum(),3))\n",
    "mfh_oecd_norm"
   ]
  },
  {
   "cell_type": "markdown",
   "metadata": {},
   "source": [
    "### 2.7. Método `rename`\n",
    "\n",
    "El método `rename` sirve para renombrar columnas o índices. \n",
    "\n",
    "    pandas.DataFrame.rename(mapper, index, columns, axis, inplace, level)\n",
    "\n",
    "* **mapper:** diccionario o función para renombrar las columnas o índices. <br><br>\n",
    "\n",
    "* **index:** diccionario o función para renombrar índices. Cuando utilizamos este parámetro no es necesario utilizar los parámetros `mapper` y `axis`. <br><br>\n",
    "\n",
    "* **columns:** diccionario o función para renombrar columnas. Cuando utilizamos este parámetro no es necesario utilizar los parámetros `mapper` y `axis`. <br><br>\n",
    "\n",
    "* **axis:** por defecto es 0. <br><br>\n",
    "    * `axis = 1`:  indica que vamos a renombrar columnas.<br>\n",
    "    * `axis = 0`: indica que vamos a renombrar filas.<br>\n",
    "\n",
    "* **inplace:** por defecto es `False`. <br><br>\n",
    "    * `inplace = True`: retorna `None` y  ejecuta las operaciones sobre el dataframe oríginal. <br>\n",
    "    * `inplace = False`: retorna una copia del `DataFrame` con las modificaciones. <br><br>\n",
    "\n",
    "* **level:** indica por nombre o por posición a cuál de los niveles del índice múltiple se le debe aplicar el diccionario o la función. "
   ]
  },
  {
   "cell_type": "markdown",
   "metadata": {},
   "source": [
    "##### Ejemplo 8\n",
    "\n",
    "En la siguiente celda encuentras un diccionario con los nombres de los países en inglés y en español."
   ]
  },
  {
   "cell_type": "code",
   "execution_count": null,
   "metadata": {},
   "outputs": [],
   "source": [
    "df_paises = pd.read_csv(\"Archivos/DiccionarioPaises.csv\", encoding = 'utf-8-sig', sep = \";\", index_col = [1])\n",
    "dicc_paises = df_paises.to_dict()['País en español']"
   ]
  },
  {
   "cell_type": "markdown",
   "metadata": {},
   "source": [
    "A continuación encuentras un diccionario con las abreviaturas de los meses en inglés y en español."
   ]
  },
  {
   "cell_type": "code",
   "execution_count": null,
   "metadata": {},
   "outputs": [],
   "source": [
    "dicc_meses = {'Jan':'ENE', 'Feb': 'FEB', 'Mar':'MAR', 'Apr':'ABR', 'May':'MAY' ,'Jun': 'JUN', 'Jul':'JUL',\n",
    "                    'Aug': 'AGO', 'Sep': 'SEP', 'Oct':'OCT','Nov':'NOV', 'Dec':'DIC'}"
   ]
  },
  {
   "cell_type": "markdown",
   "metadata": {},
   "source": [
    "Requerimos traducir al español los meses y países del `DataFrame` utilizando los diccionarios provistos "
   ]
  },
  {
   "cell_type": "code",
   "execution_count": null,
   "metadata": {},
   "outputs": [],
   "source": [
    "mfh = mfh.rename(mapper = dicc_paises)\n",
    "mfh = mfh.rename(columns = dicc_meses) \n",
    "mfh"
   ]
  },
  {
   "cell_type": "markdown",
   "metadata": {},
   "source": [
    "### 2.8. Método `replace`\n",
    "\n",
    "El método `replace` usa la siguiente sintaxis para reemplazar un valor por otro.\n",
    "\n",
    "    pandas.DataFrame.replace( to_replace, value, inplace) \n",
    "\n",
    "* **to_replace:** valor específico, estructura de datos. <br><br>\n",
    "\n",
    "* **value:** valor que sustituirá el valor a reemplazar.<br><br>\n",
    "\n",
    "* **inplace:** por defecto es `False`. <br><br>\n",
    "    * `inplace = True`: retorna `None` y  ejecuta las operaciones sobre el dataframe oríginal. <br>\n",
    "    * `inplace = False`: retorna una copia del `DataFrame` con las modificaciones. <br><br>"
   ]
  },
  {
   "cell_type": "markdown",
   "metadata": {},
   "source": [
    "### 2.9. Método `stack`\n",
    "\n",
    "El método `stack` transfiere uno o varios niveles de las columnas al índice. Al emplearlo, el número de niveles del índice se va a ver aumentando y el número de niveles de las columnas se va a ver disminuido. \n",
    "\n",
    "    pandas.DataFrame.stack(level, fill_value) \n",
    "\n",
    "* **level:** nombre o índice del nivel a transferir. Por defecto es -1 (el último nivel) \n",
    "\n",
    "* **fill_value:** valor para reemplazar los datos faltantes que se generen. "
   ]
  },
  {
   "cell_type": "markdown",
   "metadata": {},
   "source": [
    "##### Ejemplo 9\n",
    "\n",
    "Pasa el nivel correspondiente a los meses al índice de `mfh_2021`.\n",
    "\n",
    "Procedemos entonces usando el método `stack`."
   ]
  },
  {
   "cell_type": "code",
   "execution_count": null,
   "metadata": {},
   "outputs": [],
   "source": [
    "mfh_2021 = mfh_2021.stack(\"Mes\") \n",
    "mfh_2021"
   ]
  },
  {
   "cell_type": "markdown",
   "metadata": {},
   "source": [
    "### 2.10. Método `unstack`\n",
    "\n",
    "El método `unstack` transfiere uno o varios niveles del índice a las columna. Al emplearlo, el número de niveles de las columnas se va a ver aumentando y el número de niveles del índice se va a ver disminuido. \n",
    "\n",
    "    pandas.DataFrame.unstack(level, fill_value) \n",
    "\n",
    "* **level:** nombre o índice del nivel a transferir. Por defecto es -1 (el último nivel) \n",
    "\n",
    "* **fill_value:** valor para reemplazar los datos faltantes que se generen. "
   ]
  },
  {
   "cell_type": "markdown",
   "metadata": {},
   "source": [
    "#### Ejemplo 10\n",
    "\n",
    "Se te solicita revertir el cambio realizado en el ejemplo anterior.\n",
    "\n",
    "Utilizamos el método `unstack` para revertir el cambio realizado."
   ]
  },
  {
   "cell_type": "code",
   "execution_count": null,
   "metadata": {},
   "outputs": [],
   "source": [
    "mfh_2021 = mfh_2021.unstack(\"Mes\")\n",
    "mfh_2021"
   ]
  },
  {
   "cell_type": "markdown",
   "metadata": {},
   "source": [
    "## Referencias\n",
    "\n",
    "Pandas (2021). Documentación sobre I/O tools (text, CSV, HDF5...). Recuperado el 24 de Abril de 2020 de: https://pandas.pydata.org/pandas-docs/stable/user_guide/io.html \n",
    "\n",
    "Pandas (2020). Documentación sobre los objetos índices. Recuperado el 15 de mayo de 2020 de: https://pandas.pydata.org/pandas-docs/stable/reference/api/pandas.IndexSlice.html\n",
    "\n",
    "Pandas (2020). Documentación sobre los métodos DataFrame. Recuperado el 15 de mayo de 2020 de: https://pandas.pydata.org/docs/reference/frame.html\n",
    "\n",
    "Departamento del Tesoro Americano (2020). Principales tenedores foráneos de títulos del tesoro [Base de Datos]. Recuperado el  15 de septiembre de 2020 de : \n",
    "https://ticdata.treasury.gov/Publish/mfh.txt."
   ]
  },
  {
   "cell_type": "markdown",
   "metadata": {},
   "source": [
    "## Créditos\n",
    "\n",
    "**Autor(es):** Jorge Esteban Camargo Forero, Alejandro Mantilla Redondo,Diego Alejandro Cely Gómez\n",
    "\n",
    "**Fecha Última actualización:** 19/09/2021"
   ]
  }
 ],
 "metadata": {
  "kernelspec": {
   "display_name": "Python 3 (ipykernel)",
   "language": "python",
   "name": "python3"
  },
  "language_info": {
   "codemirror_mode": {
    "name": "ipython",
    "version": 3
   },
   "file_extension": ".py",
   "mimetype": "text/x-python",
   "name": "python",
   "nbconvert_exporter": "python",
   "pygments_lexer": "ipython3",
   "version": "3.8.8"
  }
 },
 "nbformat": 4,
 "nbformat_minor": 2
}
